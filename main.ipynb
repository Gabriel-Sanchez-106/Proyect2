{
 "cells": [
  {
   "cell_type": "code",
   "execution_count": 11,
   "metadata": {},
   "outputs": [],
   "source": [
    "from ucimlrepo import fetch_ucirepo\n",
    "import pandas as pd\n",
    "import numpy as np\n",
    "\n",
    "from sklearn.preprocessing import LabelEncoder\n",
    "from sklearn.model_selection import train_test_split\n",
    "from sklearn.model_selection import KFold\n",
    "from sklearn.model_selection import cross_val_score\n",
    "\n",
    "from sklearn.datasets import load_breast_cancer\n",
    "\n",
    "from sklearn.ensemble import RandomForestClassifier as RF\n",
    "from sklearn.tree import DecisionTreeClassifier as CART\n",
    "\n",
    "from KNN import KClasificadorVecinosCercanos as KNN\n",
    "\n",
    "import time"
   ]
  },
  {
   "cell_type": "code",
   "execution_count": 12,
   "metadata": {},
   "outputs": [
    {
     "name": "stdout",
     "output_type": "stream",
     "text": [
      "<class 'numpy.ndarray'>\n"
     ]
    }
   ],
   "source": [
    "data = load_breast_cancer()\n",
    "X, y = data.data, data.target\n",
    "\n",
    "print(type(X))\n"
   ]
  },
  {
   "cell_type": "code",
   "execution_count": 15,
   "metadata": {},
   "outputs": [
    {
     "name": "stdout",
     "output_type": "stream",
     "text": [
      "<class 'numpy.ndarray'>\n",
      "[5 5 5 ... 3 3 3]\n"
     ]
    },
    {
     "name": "stderr",
     "output_type": "stream",
     "text": [
      "C:\\Users\\user\\AppData\\Local\\Packages\\PythonSoftwareFoundation.Python.3.11_qbz5n2kfra8p0\\LocalCache\\local-packages\\Python311\\site-packages\\sklearn\\preprocessing\\_label.py:114: DataConversionWarning: A column-vector y was passed when a 1d array was expected. Please change the shape of y to (n_samples, ), for example using ravel().\n",
      "  y = column_or_1d(y, warn=True)\n"
     ]
    }
   ],
   "source": [
    "# Fetch dataset\n",
    "dry_bean_dataset = fetch_ucirepo(id=602)\n",
    "\n",
    "# Data (as pandas dataframes)\n",
    "X = dry_bean_dataset.data.features\n",
    "y = dry_bean_dataset.data.targets\n",
    "\n",
    "# Seleccionar solo las columnas numéricas\n",
    "X = X.values\n",
    "\n",
    "# Convertir y a enumerado usando LabelEncoder\n",
    "label_encoder = LabelEncoder()\n",
    "y = label_encoder.fit_transform(y)\n",
    "\n",
    "# Ahora X_numeric tiene solo características numéricas y y es enumerado\n",
    "print(type(X))\n",
    "print(y)\n"
   ]
  },
  {
   "cell_type": "code",
   "execution_count": 18,
   "metadata": {},
   "outputs": [
    {
     "name": "stdout",
     "output_type": "stream",
     "text": [
      "<class 'numpy.ndarray'>\n",
      "[0 0 0 ... 1 1 1]\n"
     ]
    },
    {
     "name": "stderr",
     "output_type": "stream",
     "text": [
      "C:\\Users\\user\\AppData\\Local\\Packages\\PythonSoftwareFoundation.Python.3.11_qbz5n2kfra8p0\\LocalCache\\local-packages\\Python311\\site-packages\\sklearn\\preprocessing\\_label.py:114: DataConversionWarning: A column-vector y was passed when a 1d array was expected. Please change the shape of y to (n_samples, ), for example using ravel().\n",
      "  y = column_or_1d(y, warn=True)\n"
     ]
    }
   ],
   "source": [
    "# fetch dataset \n",
    "rice_cammeo_and_osmancik = fetch_ucirepo(id=545) \n",
    "\n",
    "# data (as pandas dataframes) \n",
    "X = rice_cammeo_and_osmancik.data.features \n",
    "y = rice_cammeo_and_osmancik.data.targets\n",
    "  \n",
    "# Seleccionar solo las columnas numéricas\n",
    "X = X.values\n",
    "\n",
    "# Convertir y a enumerado usando LabelEncoder\n",
    "label_encoder = LabelEncoder()\n",
    "y = label_encoder.fit_transform(y)\n",
    "\n",
    "# Ahora X_numeric tiene solo características numéricas y y es enumerado\n",
    "print(type(X))\n",
    "print(y)\n"
   ]
  },
  {
   "cell_type": "code",
   "execution_count": 10,
   "metadata": {},
   "outputs": [
    {
     "name": "stdout",
     "output_type": "stream",
     "text": [
      "Resultados de cross-validation:\n",
      "[0.87868852 0.88688525 0.87704918 0.86535304 0.88013136]\n",
      "Métrica promedio: 0.88\n",
      "Métrica en el conjunto de validación: 0.88\n",
      "tiempo entrenamiento: 0.0\n",
      "tiempo prediccion: 1.4163315296173096\n"
     ]
    }
   ],
   "source": [
    "# Paso 1: Dividir la muestra en entrenamiento (80%) y validación (20%)\n",
    "X_entrenamiento, X_validacion, y_entrenamiento, y_validacion = train_test_split(X, y, test_size=0.2, random_state=42)\n",
    "\n",
    "# Paso 2: Utilizar cross-validación para escoger los parámetros relevantes\n",
    "modelo = KNN()  # Ajusta los parámetros el clasificador elegido\n",
    "\n",
    "# Crear un objeto de validación cruzada (por ejemplo, con 5 folds)\n",
    "kf = KFold(n_splits=5, shuffle=True, random_state=42)\n",
    "\n",
    "# Realizar la validación cruzada y obtener los resultados\n",
    "resultados_cross_val = cross_val_score(modelo, X_entrenamiento, y_entrenamiento, cv=kf)\n",
    "\n",
    "# Imprimir los resultados de cross-validation\n",
    "print(\"Resultados de cross-validation:\")\n",
    "print(resultados_cross_val)\n",
    "print(\"Métrica promedio: {:.2f}\".format(resultados_cross_val.mean()))\n",
    "\n",
    "\n",
    "# Crear modelo para medir tiempos\n",
    "modelo_final = KNN() # Ajusta los parámetros el clasificador elegido\n",
    "\n",
    "ti_ent= time.time()\n",
    "modelo_final.fit(X_entrenamiento, y_entrenamiento)\n",
    "tf_ent= time.time()\n",
    "\n",
    "# Paso 3: Evaluar el modelo en el conjunto de validación\n",
    "ti_pred = time.time()\n",
    "resultados_validacion = modelo_final.score(X_validacion, y_validacion)\n",
    "tf_pred =time.time()\n",
    "\n",
    "#Paso 4: Imprimir tiempos\n",
    "\n",
    "print(\"Métrica en el conjunto de validación: {:.2f}\".format(resultados_validacion))\n",
    "print(\"tiempo entrenamiento: {0}\".format(tf_ent-ti_ent))\n",
    "print(\"tiempo prediccion: {0}\".format(tf_pred-ti_pred))\n"
   ]
  },
  {
   "cell_type": "code",
   "execution_count": 19,
   "metadata": {},
   "outputs": [
    {
     "name": "stdout",
     "output_type": "stream",
     "text": [
      "Resultados de cross-validation:\n",
      "[0.86229508 0.88688525 0.90819672 0.863711   0.89819376]\n",
      "Métrica promedio: 0.88\n",
      "Para CART\n",
      "Métrica en el conjunto de validación: 0.88\n",
      "tiempo entrenamiento: 0.04092693328857422\n",
      "tiempo prediccion: 0.0009927749633789062\n"
     ]
    }
   ],
   "source": [
    "# Paso 1: Dividir la muestra en entrenamiento (80%) y validación (20%)\n",
    "X_entrenamiento, X_validacion, y_entrenamiento, y_validacion = train_test_split(X, y, test_size=0.2, random_state=42)\n",
    "\n",
    "# Paso 2: Utilizar cross-validación para escoger los parámetros relevantes\n",
    "modelo = CART()  # Ajusta los parámetros el clasificador elegido\n",
    "\n",
    "# Crear un objeto de validación cruzada (por ejemplo, con 5 folds)\n",
    "kf = KFold(n_splits=5, shuffle=True, random_state=42)\n",
    "\n",
    "# Realizar la validación cruzada y obtener los resultados\n",
    "resultados_cross_val = cross_val_score(modelo, X_entrenamiento, y_entrenamiento, cv=kf)\n",
    "\n",
    "# Imprimir los resultados de cross-validation\n",
    "print(\"Resultados de cross-validation:\")\n",
    "print(resultados_cross_val)\n",
    "print(\"Métrica promedio: {:.2f}\".format(resultados_cross_val.mean()))\n",
    "\n",
    "\n",
    "# Crear modelo para medir tiempos\n",
    "modelo_final = CART() # Ajusta los parámetros el clasificador elegido\n",
    "\n",
    "ti_ent= time.time()\n",
    "modelo_final.fit(X_entrenamiento, y_entrenamiento)\n",
    "tf_ent= time.time()\n",
    "\n",
    "# Paso 3: Evaluar el modelo en el conjunto de validación\n",
    "ti_pred = time.time()\n",
    "resultados_validacion = modelo_final.score(X_validacion, y_validacion)\n",
    "tf_pred =time.time()\n",
    "\n",
    "#Paso 4: Imprimir tiempos\n",
    "\n",
    "print(\"Para CART\")\n",
    "print(\"Métrica en el conjunto de validación: {:.2f}\".format(resultados_validacion))\n",
    "print(\"tiempo entrenamiento: {0}\".format(tf_ent-ti_ent))\n",
    "print(\"tiempo prediccion: {0}\".format(tf_pred-ti_pred))"
   ]
  },
  {
   "cell_type": "code",
   "execution_count": 20,
   "metadata": {},
   "outputs": [
    {
     "name": "stdout",
     "output_type": "stream",
     "text": [
      "Resultados de cross-validation:\n",
      "[0.92131148 0.9147541  0.93278689 0.91461412 0.93596059]\n",
      "Métrica promedio: 0.92\n",
      "Para RF\n",
      "Métrica en el conjunto de validación: 0.92\n",
      "tiempo entrenamiento: 0.9996473789215088\n",
      "tiempo prediccion: 0.011960029602050781\n"
     ]
    }
   ],
   "source": [
    "# Paso 1: Dividir la muestra en entrenamiento (80%) y validación (20%)\n",
    "X_entrenamiento, X_validacion, y_entrenamiento, y_validacion = train_test_split(X, y, test_size=0.2, random_state=42)\n",
    "\n",
    "# Paso 2: Utilizar cross-validación para escoger los parámetros relevantes\n",
    "modelo = RF()  # Ajusta los parámetros el clasificador elegido\n",
    "\n",
    "# Crear un objeto de validación cruzada (por ejemplo, con 5 folds)\n",
    "kf = KFold(n_splits=5, shuffle=True, random_state=42)\n",
    "\n",
    "# Realizar la validación cruzada y obtener los resultados\n",
    "resultados_cross_val = cross_val_score(modelo, X_entrenamiento, y_entrenamiento, cv=kf)\n",
    "\n",
    "# Imprimir los resultados de cross-validation\n",
    "print(\"Resultados de cross-validation:\")\n",
    "print(resultados_cross_val)\n",
    "print(\"Métrica promedio: {:.2f}\".format(resultados_cross_val.mean()))\n",
    "\n",
    "\n",
    "# Crear modelo para medir tiempos\n",
    "modelo_final = RF() # Ajusta los parámetros el clasificador elegido\n",
    "\n",
    "ti_ent= time.time()\n",
    "modelo_final.fit(X_entrenamiento, y_entrenamiento)\n",
    "tf_ent= time.time()\n",
    "\n",
    "# Paso 3: Evaluar el modelo en el conjunto de validación\n",
    "ti_pred = time.time()\n",
    "resultados_validacion = modelo_final.score(X_validacion, y_validacion)\n",
    "tf_pred =time.time()\n",
    "\n",
    "#Paso 4: Imprimir tiempos\n",
    "\n",
    "print(\"Para RF\")\n",
    "print(\"Métrica en el conjunto de validación: {:.2f}\".format(resultados_validacion))\n",
    "print(\"tiempo entrenamiento: {0}\".format(tf_ent-ti_ent))\n",
    "print(\"tiempo prediccion: {0}\".format(tf_pred-ti_pred))"
   ]
  },
  {
   "cell_type": "code",
   "execution_count": null,
   "metadata": {},
   "outputs": [],
   "source": []
  }
 ],
 "metadata": {
  "kernelspec": {
   "display_name": "Python 3",
   "language": "python",
   "name": "python3"
  },
  "language_info": {
   "codemirror_mode": {
    "name": "ipython",
    "version": 3
   },
   "file_extension": ".py",
   "mimetype": "text/x-python",
   "name": "python",
   "nbconvert_exporter": "python",
   "pygments_lexer": "ipython3",
   "version": "3.11.6"
  }
 },
 "nbformat": 4,
 "nbformat_minor": 2
}
